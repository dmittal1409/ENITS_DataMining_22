{
 "cells": [
  {
   "cell_type": "markdown",
   "metadata": {},
   "source": [
    "# Use Case: Detecting Intrusions as Outlier "
   ]
  },
  {
   "cell_type": "markdown",
   "metadata": {},
   "source": [
    "## Task: detect network intrusions\n",
    "\n",
    "Contest: KDD-Cup http://kdd.ics.uci.edu/databases/kddcup99/kddcup99.html\n",
    "\n",
    "NOTE: we are useing only a subset of the original data\n",
    "\n",
    "Data and full task description: http://kdd.ics.uci.edu/databases/kddcup99/task.html "
   ]
  },
  {
   "cell_type": "code",
   "execution_count": null,
   "metadata": {},
   "outputs": [],
   "source": [
    "#download data\n",
    "#get the data\n",
    "!git clone https://github.com/keuperj/DATA.git"
   ]
  },
  {
   "cell_type": "markdown",
   "metadata": {},
   "source": [
    "## Task I: Supervised Classification\n",
    "\n",
    "Use the known tools like Pandas, Numpy, Scikit-Learn\n",
    "\n",
    "* read the training data in '''DATA/outlier_train_data.csv'''\n",
    "* clean the data\n",
    "* do a first data exploration\n",
    "* train a supervised ML model to classify the different network types\n",
    "* evaluate the model on '''DATA/outlier_test_data.csv'''"
   ]
  },
  {
   "cell_type": "code",
   "execution_count": null,
   "metadata": {},
   "outputs": [],
   "source": [
    "import pandas as pd\n",
    "train = pd.read_csv(\"DATA/outlier_train_data.csv\")"
   ]
  },
  {
   "cell_type": "markdown",
   "metadata": {},
   "source": [
    "## Task II: Intrusions as Outlier\n",
    "\n",
    "Use the train data WITHOUT the lables and train a [Isolation Forest](https://scikit-learn.org/stable/modules/generated/sklearn.ensemble.IsolationForest.html).\n",
    "\n",
    "* check and plot statistics of the isolation values\n",
    "* find a threshold to select outliers\n",
    "* evaluate this approach with the test data"
   ]
  },
  {
   "cell_type": "code",
   "execution_count": null,
   "metadata": {},
   "outputs": [],
   "source": []
  },
  {
   "cell_type": "markdown",
   "metadata": {},
   "source": [
    "## Assignment: Intrusion detection with Auto Encoders\n"
   ]
  },
  {
   "cell_type": "markdown",
   "metadata": {},
   "source": [
    "## Build your own AE on the train data\n",
    "We use the Kereas Deep Learning library (https://keras.io/) to build the neural networks.\n",
    "\n",
    "* how many layers should there be in en- and decoder?\n",
    "* how large should in- and output layers be?\n",
    "* how large should the latent space be?\n",
    "* what is a good threshold to find outliers...?\n",
    "* evaluate your approach against the test set.\n",
    "\n"
   ]
  },
  {
   "cell_type": "code",
   "execution_count": null,
   "metadata": {},
   "outputs": [],
   "source": []
  }
 ],
 "metadata": {
  "kernelspec": {
   "display_name": "Python 3",
   "language": "python",
   "name": "python3"
  },
  "language_info": {
   "codemirror_mode": {
    "name": "ipython",
    "version": 3
   },
   "file_extension": ".py",
   "mimetype": "text/x-python",
   "name": "python",
   "nbconvert_exporter": "python",
   "pygments_lexer": "ipython3",
   "version": "3.7.6"
  }
 },
 "nbformat": 4,
 "nbformat_minor": 4
}
